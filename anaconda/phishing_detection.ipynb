{
 "cells": [
  {
   "cell_type": "code",
   "execution_count": 1,
   "id": "83a3b34a-732e-406f-b9a0-e70687869d00",
   "metadata": {},
   "outputs": [],
   "source": [
    "import pandas as pd\n",
    "import numpy as np\n",
    "from sklearn.model_selection import GridSearchCV\n",
    "from xgboost import XGBClassifier\n",
    "from sklearn.model_selection import train_test_split\n",
    "from sklearn.metrics import accuracy_score, confusion_matrix, classification_report"
   ]
  },
  {
   "cell_type": "code",
   "execution_count": 4,
   "id": "3ec6f124-b602-4da2-805e-87454dbb73cf",
   "metadata": {},
   "outputs": [
    {
     "name": "stderr",
     "output_type": "stream",
     "text": [
      "<>:2: SyntaxWarning: invalid escape sequence '\\p'\n",
      "<>:2: SyntaxWarning: invalid escape sequence '\\p'\n",
      "C:\\Users\\vedik\\AppData\\Local\\Temp\\ipykernel_23076\\1544790637.py:2: SyntaxWarning: invalid escape sequence '\\p'\n",
      "  data = pd.read_csv(\"D:\\phishingDetection\\data\\web-page-phishing.csv\")\n"
     ]
    },
    {
     "name": "stdout",
     "output_type": "stream",
     "text": [
      "   url_length  n_dots  n_hypens  n_underline  n_slash  n_questionmark  \\\n",
      "0          37       3         0            0        0               0   \n",
      "1          77       1         0            0        0               0   \n",
      "2         126       4         1            2        0               1   \n",
      "3          18       2         0            0        0               0   \n",
      "4          55       2         2            0        0               0   \n",
      "\n",
      "   n_equal  n_at  n_and  n_exclamation  n_space  n_tilde  n_comma  n_plus  \\\n",
      "0        0     0      0              0        0        0        0       0   \n",
      "1        0     0      0              0        0        0        0       0   \n",
      "2        3     0      2              0        0        0        0       0   \n",
      "3        0     0      0              0        0        0        0       0   \n",
      "4        0     0      0              0        0        0        0       0   \n",
      "\n",
      "   n_asterisk  n_hastag  n_dollar  n_percent  n_redirection  phishing  \n",
      "0           0         0         0          0              0         0  \n",
      "1           0         0         0          0              1         1  \n",
      "2           0         0         0          0              1         1  \n",
      "3           0         0         0          0              1         0  \n",
      "4           0         0         0          0              1         0  \n",
      "<class 'pandas.core.frame.DataFrame'>\n",
      "RangeIndex: 100077 entries, 0 to 100076\n",
      "Data columns (total 20 columns):\n",
      " #   Column          Non-Null Count   Dtype\n",
      "---  ------          --------------   -----\n",
      " 0   url_length      100077 non-null  int64\n",
      " 1   n_dots          100077 non-null  int64\n",
      " 2   n_hypens        100077 non-null  int64\n",
      " 3   n_underline     100077 non-null  int64\n",
      " 4   n_slash         100077 non-null  int64\n",
      " 5   n_questionmark  100077 non-null  int64\n",
      " 6   n_equal         100077 non-null  int64\n",
      " 7   n_at            100077 non-null  int64\n",
      " 8   n_and           100077 non-null  int64\n",
      " 9   n_exclamation   100077 non-null  int64\n",
      " 10  n_space         100077 non-null  int64\n",
      " 11  n_tilde         100077 non-null  int64\n",
      " 12  n_comma         100077 non-null  int64\n",
      " 13  n_plus          100077 non-null  int64\n",
      " 14  n_asterisk      100077 non-null  int64\n",
      " 15  n_hastag        100077 non-null  int64\n",
      " 16  n_dollar        100077 non-null  int64\n",
      " 17  n_percent       100077 non-null  int64\n",
      " 18  n_redirection   100077 non-null  int64\n",
      " 19  phishing        100077 non-null  int64\n",
      "dtypes: int64(20)\n",
      "memory usage: 15.3 MB\n",
      "None\n",
      "          url_length         n_dots       n_hypens    n_underline  \\\n",
      "count  100077.000000  100077.000000  100077.000000  100077.000000   \n",
      "mean       39.177683       2.224397       0.405188       0.137724   \n",
      "std        47.971847       1.255046       1.285465       0.723995   \n",
      "min         4.000000       1.000000       0.000000       0.000000   \n",
      "25%        18.000000       2.000000       0.000000       0.000000   \n",
      "50%        24.000000       2.000000       0.000000       0.000000   \n",
      "75%        44.000000       2.000000       0.000000       0.000000   \n",
      "max      4165.000000      24.000000      43.000000      21.000000   \n",
      "\n",
      "             n_slash  n_questionmark        n_equal           n_at  \\\n",
      "count  100077.000000   100077.000000  100077.000000  100077.000000   \n",
      "mean        1.135386        0.024391       0.215834       0.022143   \n",
      "std         1.828526        0.167789       0.959802       0.268393   \n",
      "min         0.000000        0.000000       0.000000       0.000000   \n",
      "25%         0.000000        0.000000       0.000000       0.000000   \n",
      "50%         0.000000        0.000000       0.000000       0.000000   \n",
      "75%         2.000000        0.000000       0.000000       0.000000   \n",
      "max        44.000000        9.000000      23.000000      43.000000   \n",
      "\n",
      "               n_and  n_exclamation        n_space        n_tilde  \\\n",
      "count  100077.000000  100077.000000  100077.000000  100077.000000   \n",
      "mean        0.143330       0.002608       0.004876       0.003617   \n",
      "std         0.913656       0.082207       0.144569       0.078500   \n",
      "min         0.000000       0.000000       0.000000       0.000000   \n",
      "25%         0.000000       0.000000       0.000000       0.000000   \n",
      "50%         0.000000       0.000000       0.000000       0.000000   \n",
      "75%         0.000000       0.000000       0.000000       0.000000   \n",
      "max        26.000000      10.000000      18.000000       5.000000   \n",
      "\n",
      "             n_comma         n_plus     n_asterisk       n_hastag  \\\n",
      "count  100077.000000  100077.000000  100077.000000  100077.000000   \n",
      "mean        0.002378       0.002468       0.004097       0.000450   \n",
      "std         0.079558       0.104382       0.284046       0.058028   \n",
      "min         0.000000       0.000000       0.000000       0.000000   \n",
      "25%         0.000000       0.000000       0.000000       0.000000   \n",
      "50%         0.000000       0.000000       0.000000       0.000000   \n",
      "75%         0.000000       0.000000       0.000000       0.000000   \n",
      "max        11.000000      19.000000      60.000000      13.000000   \n",
      "\n",
      "            n_dollar      n_percent  n_redirection       phishing  \n",
      "count  100077.000000  100077.000000  100077.000000  100077.000000  \n",
      "mean        0.001899       0.109286       0.361532       0.363340  \n",
      "std         0.097412       1.695327       0.775492       0.480964  \n",
      "min         0.000000       0.000000      -1.000000       0.000000  \n",
      "25%         0.000000       0.000000       0.000000       0.000000  \n",
      "50%         0.000000       0.000000       0.000000       0.000000  \n",
      "75%         0.000000       0.000000       1.000000       1.000000  \n",
      "max        10.000000     174.000000      17.000000       1.000000  \n"
     ]
    }
   ],
   "source": [
    "# Replace 'your_dataset.csv' with the actual file path\n",
    "data = pd.read_csv(\"D:\\phishingDetection\\data\\web-page-phishing.csv\")\n",
    "\n",
    "# Show the first few rows of the dataset\n",
    "print(data.head())\n",
    "\n",
    "# Check for missing values and basic statistics\n",
    "print(data.info())\n",
    "print(data.describe())\n"
   ]
  },
  {
   "cell_type": "code",
   "execution_count": 6,
   "id": "5df1fc2e",
   "metadata": {},
   "outputs": [
    {
     "data": {
      "text/plain": [
       "phishing\n",
       "0    63715\n",
       "1    36362\n",
       "Name: count, dtype: int64"
      ]
     },
     "execution_count": 6,
     "metadata": {},
     "output_type": "execute_result"
    }
   ],
   "source": [
    "data['phishing'].value_counts()\n"
   ]
  },
  {
   "cell_type": "code",
   "execution_count": 8,
   "id": "f030ff4b-e9c2-4ab1-911a-9ef5d4282394",
   "metadata": {},
   "outputs": [],
   "source": [
    "# seperrating the data for analysis\n",
    "legit = data[data.phishing==0]\n",
    "fraud = data[data.phishing==1]"
   ]
  },
  {
   "cell_type": "code",
   "execution_count": 10,
   "id": "6664b1c1-5da5-4ee4-9aca-fb4ecfee8ffc",
   "metadata": {},
   "outputs": [
    {
     "name": "stdout",
     "output_type": "stream",
     "text": [
      "(63715, 20)\n",
      "(36362, 20)\n"
     ]
    }
   ],
   "source": [
    "print(legit.shape)\n",
    "print(fraud.shape)\n"
   ]
  },
  {
   "cell_type": "code",
   "execution_count": 12,
   "id": "e4fe12e7-58e0-4aba-97a0-fd145dd6a075",
   "metadata": {},
   "outputs": [
    {
     "data": {
      "text/html": [
       "<div>\n",
       "<style scoped>\n",
       "    .dataframe tbody tr th:only-of-type {\n",
       "        vertical-align: middle;\n",
       "    }\n",
       "\n",
       "    .dataframe tbody tr th {\n",
       "        vertical-align: top;\n",
       "    }\n",
       "\n",
       "    .dataframe thead th {\n",
       "        text-align: right;\n",
       "    }\n",
       "</style>\n",
       "<table border=\"1\" class=\"dataframe\">\n",
       "  <thead>\n",
       "    <tr style=\"text-align: right;\">\n",
       "      <th></th>\n",
       "      <th>url_length</th>\n",
       "      <th>n_dots</th>\n",
       "      <th>n_hypens</th>\n",
       "      <th>n_underline</th>\n",
       "      <th>n_slash</th>\n",
       "      <th>n_questionmark</th>\n",
       "      <th>n_equal</th>\n",
       "      <th>n_at</th>\n",
       "      <th>n_and</th>\n",
       "      <th>n_exclamation</th>\n",
       "      <th>n_space</th>\n",
       "      <th>n_tilde</th>\n",
       "      <th>n_comma</th>\n",
       "      <th>n_plus</th>\n",
       "      <th>n_asterisk</th>\n",
       "      <th>n_hastag</th>\n",
       "      <th>n_dollar</th>\n",
       "      <th>n_percent</th>\n",
       "      <th>n_redirection</th>\n",
       "    </tr>\n",
       "    <tr>\n",
       "      <th>phishing</th>\n",
       "      <th></th>\n",
       "      <th></th>\n",
       "      <th></th>\n",
       "      <th></th>\n",
       "      <th></th>\n",
       "      <th></th>\n",
       "      <th></th>\n",
       "      <th></th>\n",
       "      <th></th>\n",
       "      <th></th>\n",
       "      <th></th>\n",
       "      <th></th>\n",
       "      <th></th>\n",
       "      <th></th>\n",
       "      <th></th>\n",
       "      <th></th>\n",
       "      <th></th>\n",
       "      <th></th>\n",
       "      <th></th>\n",
       "    </tr>\n",
       "  </thead>\n",
       "  <tbody>\n",
       "    <tr>\n",
       "      <th>0</th>\n",
       "      <td>23.589971</td>\n",
       "      <td>2.051950</td>\n",
       "      <td>0.259123</td>\n",
       "      <td>0.045672</td>\n",
       "      <td>0.290732</td>\n",
       "      <td>0.003217</td>\n",
       "      <td>0.026980</td>\n",
       "      <td>0.000031</td>\n",
       "      <td>0.012760</td>\n",
       "      <td>0.000785</td>\n",
       "      <td>0.003265</td>\n",
       "      <td>0.000675</td>\n",
       "      <td>0.000785</td>\n",
       "      <td>0.001946</td>\n",
       "      <td>0.000000</td>\n",
       "      <td>0.000000</td>\n",
       "      <td>0.000000</td>\n",
       "      <td>0.075838</td>\n",
       "      <td>0.391305</td>\n",
       "    </tr>\n",
       "    <tr>\n",
       "      <th>1</th>\n",
       "      <td>66.491117</td>\n",
       "      <td>2.526566</td>\n",
       "      <td>0.661130</td>\n",
       "      <td>0.299021</td>\n",
       "      <td>2.615423</td>\n",
       "      <td>0.061493</td>\n",
       "      <td>0.546752</td>\n",
       "      <td>0.060888</td>\n",
       "      <td>0.372119</td>\n",
       "      <td>0.005803</td>\n",
       "      <td>0.007700</td>\n",
       "      <td>0.008773</td>\n",
       "      <td>0.005170</td>\n",
       "      <td>0.003383</td>\n",
       "      <td>0.011276</td>\n",
       "      <td>0.001238</td>\n",
       "      <td>0.005225</td>\n",
       "      <td>0.167895</td>\n",
       "      <td>0.309361</td>\n",
       "    </tr>\n",
       "  </tbody>\n",
       "</table>\n",
       "</div>"
      ],
      "text/plain": [
       "          url_length    n_dots  n_hypens  n_underline   n_slash  \\\n",
       "phishing                                                          \n",
       "0          23.589971  2.051950  0.259123     0.045672  0.290732   \n",
       "1          66.491117  2.526566  0.661130     0.299021  2.615423   \n",
       "\n",
       "          n_questionmark   n_equal      n_at     n_and  n_exclamation  \\\n",
       "phishing                                                                \n",
       "0               0.003217  0.026980  0.000031  0.012760       0.000785   \n",
       "1               0.061493  0.546752  0.060888  0.372119       0.005803   \n",
       "\n",
       "           n_space   n_tilde   n_comma    n_plus  n_asterisk  n_hastag  \\\n",
       "phishing                                                                 \n",
       "0         0.003265  0.000675  0.000785  0.001946    0.000000  0.000000   \n",
       "1         0.007700  0.008773  0.005170  0.003383    0.011276  0.001238   \n",
       "\n",
       "          n_dollar  n_percent  n_redirection  \n",
       "phishing                                      \n",
       "0         0.000000   0.075838       0.391305  \n",
       "1         0.005225   0.167895       0.309361  "
      ]
     },
     "execution_count": 12,
     "metadata": {},
     "output_type": "execute_result"
    }
   ],
   "source": [
    "# compare values for both transactions\n",
    "data.groupby('phishing').mean()\n",
    "\n"
   ]
  },
  {
   "cell_type": "code",
   "execution_count": 14,
   "id": "420a14c4-f4a0-4b71-8362-34df195c4c9e",
   "metadata": {},
   "outputs": [],
   "source": [
    "legit_sample = legit.sample(n=36362)"
   ]
  },
  {
   "cell_type": "code",
   "execution_count": 18,
   "id": "97d9b201-6741-4bf0-a8b1-88a4dbf375ac",
   "metadata": {},
   "outputs": [],
   "source": [
    "new_dataset =pd.concat([legit_sample,fraud],axis=0)"
   ]
  },
  {
   "cell_type": "code",
   "execution_count": 20,
   "id": "025617bd-64c2-49f0-bf04-e6cb59f6d5d8",
   "metadata": {},
   "outputs": [
    {
     "data": {
      "text/html": [
       "<div>\n",
       "<style scoped>\n",
       "    .dataframe tbody tr th:only-of-type {\n",
       "        vertical-align: middle;\n",
       "    }\n",
       "\n",
       "    .dataframe tbody tr th {\n",
       "        vertical-align: top;\n",
       "    }\n",
       "\n",
       "    .dataframe thead th {\n",
       "        text-align: right;\n",
       "    }\n",
       "</style>\n",
       "<table border=\"1\" class=\"dataframe\">\n",
       "  <thead>\n",
       "    <tr style=\"text-align: right;\">\n",
       "      <th></th>\n",
       "      <th>url_length</th>\n",
       "      <th>n_dots</th>\n",
       "      <th>n_hypens</th>\n",
       "      <th>n_underline</th>\n",
       "      <th>n_slash</th>\n",
       "      <th>n_questionmark</th>\n",
       "      <th>n_equal</th>\n",
       "      <th>n_at</th>\n",
       "      <th>n_and</th>\n",
       "      <th>n_exclamation</th>\n",
       "      <th>n_space</th>\n",
       "      <th>n_tilde</th>\n",
       "      <th>n_comma</th>\n",
       "      <th>n_plus</th>\n",
       "      <th>n_asterisk</th>\n",
       "      <th>n_hastag</th>\n",
       "      <th>n_dollar</th>\n",
       "      <th>n_percent</th>\n",
       "      <th>n_redirection</th>\n",
       "      <th>phishing</th>\n",
       "    </tr>\n",
       "  </thead>\n",
       "  <tbody>\n",
       "    <tr>\n",
       "      <th>5723</th>\n",
       "      <td>42</td>\n",
       "      <td>2</td>\n",
       "      <td>0</td>\n",
       "      <td>0</td>\n",
       "      <td>0</td>\n",
       "      <td>0</td>\n",
       "      <td>0</td>\n",
       "      <td>0</td>\n",
       "      <td>0</td>\n",
       "      <td>0</td>\n",
       "      <td>0</td>\n",
       "      <td>0</td>\n",
       "      <td>0</td>\n",
       "      <td>0</td>\n",
       "      <td>0</td>\n",
       "      <td>0</td>\n",
       "      <td>0</td>\n",
       "      <td>0</td>\n",
       "      <td>0</td>\n",
       "      <td>0</td>\n",
       "    </tr>\n",
       "    <tr>\n",
       "      <th>92584</th>\n",
       "      <td>22</td>\n",
       "      <td>2</td>\n",
       "      <td>0</td>\n",
       "      <td>0</td>\n",
       "      <td>0</td>\n",
       "      <td>0</td>\n",
       "      <td>0</td>\n",
       "      <td>0</td>\n",
       "      <td>0</td>\n",
       "      <td>0</td>\n",
       "      <td>0</td>\n",
       "      <td>0</td>\n",
       "      <td>0</td>\n",
       "      <td>0</td>\n",
       "      <td>0</td>\n",
       "      <td>0</td>\n",
       "      <td>0</td>\n",
       "      <td>0</td>\n",
       "      <td>2</td>\n",
       "      <td>0</td>\n",
       "    </tr>\n",
       "    <tr>\n",
       "      <th>90216</th>\n",
       "      <td>14</td>\n",
       "      <td>2</td>\n",
       "      <td>0</td>\n",
       "      <td>0</td>\n",
       "      <td>0</td>\n",
       "      <td>0</td>\n",
       "      <td>0</td>\n",
       "      <td>0</td>\n",
       "      <td>0</td>\n",
       "      <td>0</td>\n",
       "      <td>0</td>\n",
       "      <td>0</td>\n",
       "      <td>0</td>\n",
       "      <td>0</td>\n",
       "      <td>0</td>\n",
       "      <td>0</td>\n",
       "      <td>0</td>\n",
       "      <td>0</td>\n",
       "      <td>1</td>\n",
       "      <td>0</td>\n",
       "    </tr>\n",
       "    <tr>\n",
       "      <th>65209</th>\n",
       "      <td>11</td>\n",
       "      <td>1</td>\n",
       "      <td>0</td>\n",
       "      <td>0</td>\n",
       "      <td>0</td>\n",
       "      <td>0</td>\n",
       "      <td>0</td>\n",
       "      <td>0</td>\n",
       "      <td>0</td>\n",
       "      <td>0</td>\n",
       "      <td>0</td>\n",
       "      <td>0</td>\n",
       "      <td>0</td>\n",
       "      <td>0</td>\n",
       "      <td>0</td>\n",
       "      <td>0</td>\n",
       "      <td>0</td>\n",
       "      <td>0</td>\n",
       "      <td>2</td>\n",
       "      <td>0</td>\n",
       "    </tr>\n",
       "    <tr>\n",
       "      <th>79582</th>\n",
       "      <td>12</td>\n",
       "      <td>2</td>\n",
       "      <td>0</td>\n",
       "      <td>0</td>\n",
       "      <td>0</td>\n",
       "      <td>0</td>\n",
       "      <td>0</td>\n",
       "      <td>0</td>\n",
       "      <td>0</td>\n",
       "      <td>0</td>\n",
       "      <td>0</td>\n",
       "      <td>0</td>\n",
       "      <td>0</td>\n",
       "      <td>0</td>\n",
       "      <td>0</td>\n",
       "      <td>0</td>\n",
       "      <td>0</td>\n",
       "      <td>0</td>\n",
       "      <td>1</td>\n",
       "      <td>0</td>\n",
       "    </tr>\n",
       "  </tbody>\n",
       "</table>\n",
       "</div>"
      ],
      "text/plain": [
       "       url_length  n_dots  n_hypens  n_underline  n_slash  n_questionmark  \\\n",
       "5723           42       2         0            0        0               0   \n",
       "92584          22       2         0            0        0               0   \n",
       "90216          14       2         0            0        0               0   \n",
       "65209          11       1         0            0        0               0   \n",
       "79582          12       2         0            0        0               0   \n",
       "\n",
       "       n_equal  n_at  n_and  n_exclamation  n_space  n_tilde  n_comma  n_plus  \\\n",
       "5723         0     0      0              0        0        0        0       0   \n",
       "92584        0     0      0              0        0        0        0       0   \n",
       "90216        0     0      0              0        0        0        0       0   \n",
       "65209        0     0      0              0        0        0        0       0   \n",
       "79582        0     0      0              0        0        0        0       0   \n",
       "\n",
       "       n_asterisk  n_hastag  n_dollar  n_percent  n_redirection  phishing  \n",
       "5723            0         0         0          0              0         0  \n",
       "92584           0         0         0          0              2         0  \n",
       "90216           0         0         0          0              1         0  \n",
       "65209           0         0         0          0              2         0  \n",
       "79582           0         0         0          0              1         0  "
      ]
     },
     "execution_count": 20,
     "metadata": {},
     "output_type": "execute_result"
    }
   ],
   "source": [
    "new_dataset.head()\n"
   ]
  },
  {
   "cell_type": "code",
   "execution_count": 22,
   "id": "ddf04c26-10c1-46f1-a9f6-3234f3a27f29",
   "metadata": {},
   "outputs": [
    {
     "data": {
      "text/plain": [
       "phishing\n",
       "0    36362\n",
       "1    36362\n",
       "Name: count, dtype: int64"
      ]
     },
     "execution_count": 22,
     "metadata": {},
     "output_type": "execute_result"
    }
   ],
   "source": [
    "new_dataset['phishing'].value_counts()\n"
   ]
  },
  {
   "cell_type": "code",
   "execution_count": 24,
   "id": "7ea6cc59-2e0b-4093-8a32-0864daa7c3de",
   "metadata": {},
   "outputs": [
    {
     "data": {
      "text/html": [
       "<div>\n",
       "<style scoped>\n",
       "    .dataframe tbody tr th:only-of-type {\n",
       "        vertical-align: middle;\n",
       "    }\n",
       "\n",
       "    .dataframe tbody tr th {\n",
       "        vertical-align: top;\n",
       "    }\n",
       "\n",
       "    .dataframe thead th {\n",
       "        text-align: right;\n",
       "    }\n",
       "</style>\n",
       "<table border=\"1\" class=\"dataframe\">\n",
       "  <thead>\n",
       "    <tr style=\"text-align: right;\">\n",
       "      <th></th>\n",
       "      <th>url_length</th>\n",
       "      <th>n_dots</th>\n",
       "      <th>n_hypens</th>\n",
       "      <th>n_underline</th>\n",
       "      <th>n_slash</th>\n",
       "      <th>n_questionmark</th>\n",
       "      <th>n_equal</th>\n",
       "      <th>n_at</th>\n",
       "      <th>n_and</th>\n",
       "      <th>n_exclamation</th>\n",
       "      <th>n_space</th>\n",
       "      <th>n_tilde</th>\n",
       "      <th>n_comma</th>\n",
       "      <th>n_plus</th>\n",
       "      <th>n_asterisk</th>\n",
       "      <th>n_hastag</th>\n",
       "      <th>n_dollar</th>\n",
       "      <th>n_percent</th>\n",
       "      <th>n_redirection</th>\n",
       "    </tr>\n",
       "    <tr>\n",
       "      <th>phishing</th>\n",
       "      <th></th>\n",
       "      <th></th>\n",
       "      <th></th>\n",
       "      <th></th>\n",
       "      <th></th>\n",
       "      <th></th>\n",
       "      <th></th>\n",
       "      <th></th>\n",
       "      <th></th>\n",
       "      <th></th>\n",
       "      <th></th>\n",
       "      <th></th>\n",
       "      <th></th>\n",
       "      <th></th>\n",
       "      <th></th>\n",
       "      <th></th>\n",
       "      <th></th>\n",
       "      <th></th>\n",
       "      <th></th>\n",
       "    </tr>\n",
       "  </thead>\n",
       "  <tbody>\n",
       "    <tr>\n",
       "      <th>0</th>\n",
       "      <td>23.633464</td>\n",
       "      <td>2.051180</td>\n",
       "      <td>0.260244</td>\n",
       "      <td>0.049035</td>\n",
       "      <td>0.292146</td>\n",
       "      <td>0.002970</td>\n",
       "      <td>0.026676</td>\n",
       "      <td>0.000000</td>\n",
       "      <td>0.012678</td>\n",
       "      <td>0.000715</td>\n",
       "      <td>0.003438</td>\n",
       "      <td>0.000715</td>\n",
       "      <td>0.000963</td>\n",
       "      <td>0.001430</td>\n",
       "      <td>0.000000</td>\n",
       "      <td>0.000000</td>\n",
       "      <td>0.000000</td>\n",
       "      <td>0.076921</td>\n",
       "      <td>0.392030</td>\n",
       "    </tr>\n",
       "    <tr>\n",
       "      <th>1</th>\n",
       "      <td>66.491117</td>\n",
       "      <td>2.526566</td>\n",
       "      <td>0.661130</td>\n",
       "      <td>0.299021</td>\n",
       "      <td>2.615423</td>\n",
       "      <td>0.061493</td>\n",
       "      <td>0.546752</td>\n",
       "      <td>0.060888</td>\n",
       "      <td>0.372119</td>\n",
       "      <td>0.005803</td>\n",
       "      <td>0.007700</td>\n",
       "      <td>0.008773</td>\n",
       "      <td>0.005170</td>\n",
       "      <td>0.003383</td>\n",
       "      <td>0.011276</td>\n",
       "      <td>0.001238</td>\n",
       "      <td>0.005225</td>\n",
       "      <td>0.167895</td>\n",
       "      <td>0.309361</td>\n",
       "    </tr>\n",
       "  </tbody>\n",
       "</table>\n",
       "</div>"
      ],
      "text/plain": [
       "          url_length    n_dots  n_hypens  n_underline   n_slash  \\\n",
       "phishing                                                          \n",
       "0          23.633464  2.051180  0.260244     0.049035  0.292146   \n",
       "1          66.491117  2.526566  0.661130     0.299021  2.615423   \n",
       "\n",
       "          n_questionmark   n_equal      n_at     n_and  n_exclamation  \\\n",
       "phishing                                                                \n",
       "0               0.002970  0.026676  0.000000  0.012678       0.000715   \n",
       "1               0.061493  0.546752  0.060888  0.372119       0.005803   \n",
       "\n",
       "           n_space   n_tilde   n_comma    n_plus  n_asterisk  n_hastag  \\\n",
       "phishing                                                                 \n",
       "0         0.003438  0.000715  0.000963  0.001430    0.000000  0.000000   \n",
       "1         0.007700  0.008773  0.005170  0.003383    0.011276  0.001238   \n",
       "\n",
       "          n_dollar  n_percent  n_redirection  \n",
       "phishing                                      \n",
       "0         0.000000   0.076921       0.392030  \n",
       "1         0.005225   0.167895       0.309361  "
      ]
     },
     "execution_count": 24,
     "metadata": {},
     "output_type": "execute_result"
    }
   ],
   "source": [
    "new_dataset.groupby('phishing').mean()\n"
   ]
  },
  {
   "cell_type": "raw",
   "id": "0d24c058-fc33-456f-8956-bfff20af827e",
   "metadata": {},
   "source": [
    "Spliting data into features and targets"
   ]
  },
  {
   "cell_type": "code",
   "execution_count": 30,
   "id": "f6994e5a-7e28-493c-9e93-2a54c5cb0f2e",
   "metadata": {},
   "outputs": [],
   "source": [
    "X= new_dataset.drop(columns='phishing' ,axis=1)\n",
    "Y = new_dataset['phishing']\n"
   ]
  },
  {
   "cell_type": "code",
   "execution_count": 32,
   "id": "25311363-9a82-4cfe-8f92-f82759837942",
   "metadata": {},
   "outputs": [
    {
     "name": "stdout",
     "output_type": "stream",
     "text": [
      "        url_length  n_dots  n_hypens  n_underline  n_slash  n_questionmark  \\\n",
      "5723            42       2         0            0        0               0   \n",
      "92584           22       2         0            0        0               0   \n",
      "90216           14       2         0            0        0               0   \n",
      "65209           11       1         0            0        0               0   \n",
      "79582           12       2         0            0        0               0   \n",
      "...            ...     ...       ...          ...      ...             ...   \n",
      "100065          78       2         1            0        3               0   \n",
      "100067          41       3         1            0        2               0   \n",
      "100068          41       2         1            0        4               0   \n",
      "100074          70       2         1            0        5               0   \n",
      "100075          28       2         0            0        1               0   \n",
      "\n",
      "        n_equal  n_at  n_and  n_exclamation  n_space  n_tilde  n_comma  \\\n",
      "5723          0     0      0              0        0        0        0   \n",
      "92584         0     0      0              0        0        0        0   \n",
      "90216         0     0      0              0        0        0        0   \n",
      "65209         0     0      0              0        0        0        0   \n",
      "79582         0     0      0              0        0        0        0   \n",
      "...         ...   ...    ...            ...      ...      ...      ...   \n",
      "100065        0     0      0              0        0        0        0   \n",
      "100067        0     0      0              0        0        0        0   \n",
      "100068        0     0      0              0        0        0        0   \n",
      "100074        0     0      0              0        0        0        0   \n",
      "100075        0     0      0              0        0        0        0   \n",
      "\n",
      "        n_plus  n_asterisk  n_hastag  n_dollar  n_percent  n_redirection  \n",
      "5723         0           0         0         0          0              0  \n",
      "92584        0           0         0         0          0              2  \n",
      "90216        0           0         0         0          0              1  \n",
      "65209        0           0         0         0          0              2  \n",
      "79582        0           0         0         0          0              1  \n",
      "...        ...         ...       ...       ...        ...            ...  \n",
      "100065       0           0         0         0          0              0  \n",
      "100067       0           0         0         0          0              0  \n",
      "100068       0           0         0         0          0              0  \n",
      "100074       0           0         0         0          0              0  \n",
      "100075       0           0         0         0          0              0  \n",
      "\n",
      "[72724 rows x 19 columns]\n"
     ]
    }
   ],
   "source": [
    "print(X)\n"
   ]
  },
  {
   "cell_type": "code",
   "execution_count": 34,
   "id": "020fa094-bf67-4156-bbd8-40159e64939d",
   "metadata": {},
   "outputs": [
    {
     "name": "stdout",
     "output_type": "stream",
     "text": [
      "5723      0\n",
      "92584     0\n",
      "90216     0\n",
      "65209     0\n",
      "79582     0\n",
      "         ..\n",
      "100065    1\n",
      "100067    1\n",
      "100068    1\n",
      "100074    1\n",
      "100075    1\n",
      "Name: phishing, Length: 72724, dtype: int64\n"
     ]
    }
   ],
   "source": [
    "print(Y)\n"
   ]
  },
  {
   "cell_type": "raw",
   "id": "06ade10e-ec52-42f4-a138-6f983100e6d3",
   "metadata": {},
   "source": [
    "\n",
    "split data into training and testing data\n"
   ]
  },
  {
   "cell_type": "code",
   "execution_count": 44,
   "id": "49433ca5-c5fd-4e2c-8c09-2762b461ab62",
   "metadata": {},
   "outputs": [],
   "source": [
    "X_train, X_test, Y_train, Y_test = train_test_split(X, Y, test_size= 0.2, stratify=Y, random_state=2)"
   ]
  },
  {
   "cell_type": "code",
   "execution_count": 46,
   "id": "93f75e40-6cbd-4d81-bd84-a90603279fac",
   "metadata": {},
   "outputs": [
    {
     "name": "stdout",
     "output_type": "stream",
     "text": [
      "(72724, 19) (58179, 19) (14545, 19)\n"
     ]
    }
   ],
   "source": [
    "print(X.shape,X_train.shape,X_test.shape)"
   ]
  },
  {
   "cell_type": "raw",
   "id": "569a850b-6344-49ea-aa46-7377b72710bd",
   "metadata": {},
   "source": [
    "model training"
   ]
  },
  {
   "cell_type": "code",
   "execution_count": 62,
   "id": "1451504f-139c-4c6d-8773-ae04fbd6f98c",
   "metadata": {},
   "outputs": [],
   "source": [
    "model =XGBClassifier()"
   ]
  },
  {
   "cell_type": "code",
   "execution_count": 95,
   "id": "484ac459-5b8d-4f00-b5ac-5937a1e2b5c7",
   "metadata": {},
   "outputs": [],
   "source": [
    "#training the xgbclassifier model with training data\n",
    "model = XGBClassifier(objective=\"binary:logistic\", eval_metric=\"logloss\")\n",
    "model.fit(X_train, Y_train)\n",
    "model.save_model(\"phishing_detection_model.json\")"
   ]
  },
  {
   "cell_type": "code",
   "execution_count": 68,
   "id": "f520f127-6bc4-45a4-a640-c2199fa96a7c",
   "metadata": {},
   "outputs": [],
   "source": [
    "# Predictions on training data\n",
    "train_preds = model.predict(X_train)"
   ]
  },
  {
   "cell_type": "code",
   "execution_count": 72,
   "id": "e662c0d8-8bf8-4504-be2c-1201ad0d172a",
   "metadata": {},
   "outputs": [
    {
     "name": "stdout",
     "output_type": "stream",
     "text": [
      "Training Accuracy: 0.90\n"
     ]
    }
   ],
   "source": [
    "train_accuracy = accuracy_score(Y_train, train_preds)\n",
    "print(f\"Training Accuracy: {train_accuracy:.2f}\")"
   ]
  },
  {
   "cell_type": "code",
   "execution_count": 76,
   "id": "436f9214-dd7f-4181-af11-c1137f81288e",
   "metadata": {},
   "outputs": [
    {
     "name": "stdout",
     "output_type": "stream",
     "text": [
      "Test Accuracy: 0.89\n"
     ]
    }
   ],
   "source": [
    "#  Evaluate on test data\n",
    "test_preds = model.predict(X_test)\n",
    "test_accuracy = accuracy_score(Y_test, test_preds)\n",
    "print(f\"Test Accuracy: {test_accuracy:.2f}\")"
   ]
  },
  {
   "cell_type": "code",
   "execution_count": 97,
   "id": "67dbf4c5-b12a-4047-9461-48d77541d13f",
   "metadata": {
    "scrolled": true
   },
   "outputs": [
    {
     "name": "stdout",
     "output_type": "stream",
     "text": [
      "Model is trained!\n"
     ]
    }
   ],
   "source": [
    "# Check if the model is fitted\n",
    "if model._Booster is not None:\n",
    "    print(\"Model is trained!\")\n",
    "else:\n",
    "    print(\"Model is not trained.\")\n",
    "\n"
   ]
  },
  {
   "cell_type": "code",
   "execution_count": null,
   "id": "bf4bdcca-7385-4661-bfc2-b47d1ad89ca6",
   "metadata": {},
   "outputs": [],
   "source": []
  }
 ],
 "metadata": {
  "kernelspec": {
   "display_name": "phishing_detection",
   "language": "python",
   "name": "python3"
  },
  "language_info": {
   "codemirror_mode": {
    "name": "ipython",
    "version": 3
   },
   "file_extension": ".py",
   "mimetype": "text/x-python",
   "name": "python",
   "nbconvert_exporter": "python",
   "pygments_lexer": "ipython3",
   "version": "3.12.7"
  }
 },
 "nbformat": 4,
 "nbformat_minor": 5
}
